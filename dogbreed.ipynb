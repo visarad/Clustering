{
 "cells": [
  {
   "cell_type": "code",
   "execution_count": 465,
   "metadata": {},
   "outputs": [],
   "source": [
    "import pandas as pd\n",
    "import numpy as np\n",
    "from  scipy import stats\n",
    "import matplotlib.pyplot as plt\n",
    "from statsmodels.stats.outliers_influence import variance_inflation_factor as VIF\n",
    "from statsmodels.tools import add_constant\n",
    "import seaborn as sns\n",
    "from scipy import stats\n",
    "from sklearn.decomposition import PCA"
   ]
  },
  {
   "cell_type": "code",
   "execution_count": 466,
   "metadata": {},
   "outputs": [
    {
     "data": {
      "text/html": [
       "<div>\n",
       "<style scoped>\n",
       "    .dataframe tbody tr th:only-of-type {\n",
       "        vertical-align: middle;\n",
       "    }\n",
       "\n",
       "    .dataframe tbody tr th {\n",
       "        vertical-align: top;\n",
       "    }\n",
       "\n",
       "    .dataframe thead th {\n",
       "        text-align: right;\n",
       "    }\n",
       "</style>\n",
       "<table border=\"1\" class=\"dataframe\">\n",
       "  <thead>\n",
       "    <tr style=\"text-align: right;\">\n",
       "      <th></th>\n",
       "      <th>height</th>\n",
       "      <th>tail length</th>\n",
       "      <th>leg length</th>\n",
       "      <th>nose circumference</th>\n",
       "    </tr>\n",
       "  </thead>\n",
       "  <tbody>\n",
       "    <tr>\n",
       "      <th>0</th>\n",
       "      <td>5.151</td>\n",
       "      <td>3.535</td>\n",
       "      <td>1.414</td>\n",
       "      <td>0.202</td>\n",
       "    </tr>\n",
       "    <tr>\n",
       "      <th>1</th>\n",
       "      <td>4.949</td>\n",
       "      <td>3.030</td>\n",
       "      <td>1.414</td>\n",
       "      <td>0.202</td>\n",
       "    </tr>\n",
       "    <tr>\n",
       "      <th>2</th>\n",
       "      <td>4.747</td>\n",
       "      <td>3.232</td>\n",
       "      <td>1.313</td>\n",
       "      <td>0.202</td>\n",
       "    </tr>\n",
       "    <tr>\n",
       "      <th>3</th>\n",
       "      <td>4.646</td>\n",
       "      <td>3.131</td>\n",
       "      <td>1.515</td>\n",
       "      <td>0.202</td>\n",
       "    </tr>\n",
       "    <tr>\n",
       "      <th>4</th>\n",
       "      <td>5.050</td>\n",
       "      <td>3.636</td>\n",
       "      <td>1.414</td>\n",
       "      <td>0.202</td>\n",
       "    </tr>\n",
       "  </tbody>\n",
       "</table>\n",
       "</div>"
      ],
      "text/plain": [
       "   height  tail length  leg length  nose circumference\n",
       "0   5.151        3.535       1.414               0.202\n",
       "1   4.949        3.030       1.414               0.202\n",
       "2   4.747        3.232       1.313               0.202\n",
       "3   4.646        3.131       1.515               0.202\n",
       "4   5.050        3.636       1.414               0.202"
      ]
     },
     "execution_count": 466,
     "metadata": {},
     "output_type": "execute_result"
    }
   ],
   "source": [
    "data = pd.read_csv('dog-breed-dataset.csv')\n",
    "data.head()"
   ]
  },
  {
   "cell_type": "code",
   "execution_count": 467,
   "metadata": {},
   "outputs": [
    {
     "name": "stdout",
     "output_type": "stream",
     "text": [
      "(300, 4)\n",
      "(298, 4)\n",
      "     height  tail length  leg length  nose circumference\n",
      "0     5.151        3.535       1.414               0.202\n",
      "1     4.949        3.030       1.414               0.202\n",
      "2     4.747        3.232       1.313               0.202\n",
      "3     4.646        3.131       1.515               0.202\n",
      "4     5.050        3.636       1.414               0.202\n",
      "..      ...          ...         ...                 ...\n",
      "295   6.834        3.060       5.304               2.346\n",
      "296   6.426        2.550       5.100               1.938\n",
      "297   6.630        3.060       5.304               2.040\n",
      "298   6.324        3.468       5.508               2.346\n",
      "299   6.018        3.060       5.202               1.836\n",
      "\n",
      "[296 rows x 4 columns]\n"
     ]
    },
    {
     "data": {
      "image/png": "[encoded data removed]",
      "text/plain": [
       "<Figure size 432x288 with 1 Axes>"
      ]
     },
     "metadata": {},
     "output_type": "display_data"
    }
   ],
   "source": [
    "# 1. Data Cleaning\n",
    "# removing Duplicates\n",
    "data_copy = data.copy()\n",
    "print(data_copy.shape)\n",
    "data_copy = data_copy.drop_duplicates()\n",
    "# Handling missing values\n",
    "print(data_copy.dropna().shape)\n",
    "# Check for outliers using Z_score\n",
    "z_scores = np.abs(stats.zscore(data_copy, nan_policy='omit'))\n",
    "outliers_threshold = 3\n",
    "mask = (z_scores <= outliers_threshold).all(axis=1)\n",
    "data_copy = data_copy[mask]\n",
    "print(data_copy)\n",
    "plt.boxplot(data_copy)\n",
    "plt.show()\n",
    "\n",
    "# # Check for outliers using Inter Quartile Range\n",
    "# data_iqr = data.copy()\n",
    "# print(data_iqr.shape)\n",
    "# q1 = np.quantile(data_iqr,0.25)\n",
    "# q3 = np.quantile(data_iqr,0.75)\n",
    "# IQR = q3 -q1\n",
    "# u_bound = q3 + (1.5*IQR)\n",
    "# l_bound = q1 - (1.5*IQR)\n",
    "# print(IQR,u_bound,l_bound)\n",
    "# outliers = data_iqr[(data_iqr <= l_bound) | (data_iqr >= u_bound)].dropna(how='all')\n",
    "# print(outliers)  # IQR not showing any outliers for the data\n",
    "# plt.boxplot(data_iqr)\n",
    "# plt.show()\n"
   ]
  },
  {
   "cell_type": "code",
   "execution_count": 468,
   "metadata": {},
   "outputs": [
    {
     "name": "stdout",
     "output_type": "stream",
     "text": [
      "          VIF           variables\n",
      "0  134.169496               const\n",
      "1    7.154045              height\n",
      "2    2.007237         tail length\n",
      "3   30.873389          leg length\n",
      "4   15.903905  nose circumference\n",
      "                      height  tail length  leg length  nose circumference\n",
      "height              1.000000    -0.117013    0.876963            0.822272\n",
      "tail length        -0.117013     1.000000   -0.414547           -0.353424\n",
      "leg length          0.876963    -0.414547    1.000000            0.962610\n",
      "nose circumference  0.822272    -0.353424    0.962610            1.000000\n"
     ]
    },
    {
     "data": {
      "text/html": [
       "<style type=\"text/css\">\n",
       "#T_ca8ab_row0_col0, #T_ca8ab_row1_col1, #T_ca8ab_row2_col2, #T_ca8ab_row3_col3 {\n",
       "  background-color: #b40426;\n",
       "  color: #f1f1f1;\n",
       "}\n",
       "#T_ca8ab_row0_col1 {\n",
       "  background-color: #7ea1fa;\n",
       "  color: #f1f1f1;\n",
       "}\n",
       "#T_ca8ab_row0_col2 {\n",
       "  background-color: #d24b40;\n",
       "  color: #f1f1f1;\n",
       "}\n",
       "#T_ca8ab_row0_col3 {\n",
       "  background-color: #df634e;\n",
       "  color: #f1f1f1;\n",
       "}\n",
       "#T_ca8ab_row1_col0, #T_ca8ab_row1_col2, #T_ca8ab_row1_col3, #T_ca8ab_row2_col1 {\n",
       "  background-color: #3b4cc0;\n",
       "  color: #f1f1f1;\n",
       "}\n",
       "#T_ca8ab_row2_col0 {\n",
       "  background-color: #d95847;\n",
       "  color: #f1f1f1;\n",
       "}\n",
       "#T_ca8ab_row2_col3 {\n",
       "  background-color: #be242e;\n",
       "  color: #f1f1f1;\n",
       "}\n",
       "#T_ca8ab_row3_col0 {\n",
       "  background-color: #e57058;\n",
       "  color: #f1f1f1;\n",
       "}\n",
       "#T_ca8ab_row3_col1 {\n",
       "  background-color: #485fd1;\n",
       "  color: #f1f1f1;\n",
       "}\n",
       "#T_ca8ab_row3_col2 {\n",
       "  background-color: #bd1f2d;\n",
       "  color: #f1f1f1;\n",
       "}\n",
       "</style>\n",
       "<table id=\"T_ca8ab\">\n",
       "  <thead>\n",
       "    <tr>\n",
       "      <th class=\"blank level0\" >&nbsp;</th>\n",
       "      <th id=\"T_ca8ab_level0_col0\" class=\"col_heading level0 col0\" >height</th>\n",
       "      <th id=\"T_ca8ab_level0_col1\" class=\"col_heading level0 col1\" >tail length</th>\n",
       "      <th id=\"T_ca8ab_level0_col2\" class=\"col_heading level0 col2\" >leg length</th>\n",
       "      <th id=\"T_ca8ab_level0_col3\" class=\"col_heading level0 col3\" >nose circumference</th>\n",
       "    </tr>\n",
       "  </thead>\n",
       "  <tbody>\n",
       "    <tr>\n",
       "      <th id=\"T_ca8ab_level0_row0\" class=\"row_heading level0 row0\" >height</th>\n",
       "      <td id=\"T_ca8ab_row0_col0\" class=\"data row0 col0\" >1.000000</td>\n",
       "      <td id=\"T_ca8ab_row0_col1\" class=\"data row0 col1\" >-0.117013</td>\n",
       "      <td id=\"T_ca8ab_row0_col2\" class=\"data row0 col2\" >0.876963</td>\n",
       "      <td id=\"T_ca8ab_row0_col3\" class=\"data row0 col3\" >0.822272</td>\n",
       "    </tr>\n",
       "    <tr>\n",
       "      <th id=\"T_ca8ab_level0_row1\" class=\"row_heading level0 row1\" >tail length</th>\n",
       "      <td id=\"T_ca8ab_row1_col0\" class=\"data row1 col0\" >-0.117013</td>\n",
       "      <td id=\"T_ca8ab_row1_col1\" class=\"data row1 col1\" >1.000000</td>\n",
       "      <td id=\"T_ca8ab_row1_col2\" class=\"data row1 col2\" >-0.414547</td>\n",
       "      <td id=\"T_ca8ab_row1_col3\" class=\"data row1 col3\" >-0.353424</td>\n",
       "    </tr>\n",
       "    <tr>\n",
       "      <th id=\"T_ca8ab_level0_row2\" class=\"row_heading level0 row2\" >leg length</th>\n",
       "      <td id=\"T_ca8ab_row2_col0\" class=\"data row2 col0\" >0.876963</td>\n",
       "      <td id=\"T_ca8ab_row2_col1\" class=\"data row2 col1\" >-0.414547</td>\n",
       "      <td id=\"T_ca8ab_row2_col2\" class=\"data row2 col2\" >1.000000</td>\n",
       "      <td id=\"T_ca8ab_row2_col3\" class=\"data row2 col3\" >0.962610</td>\n",
       "    </tr>\n",
       "    <tr>\n",
       "      <th id=\"T_ca8ab_level0_row3\" class=\"row_heading level0 row3\" >nose circumference</th>\n",
       "      <td id=\"T_ca8ab_row3_col0\" class=\"data row3 col0\" >0.822272</td>\n",
       "      <td id=\"T_ca8ab_row3_col1\" class=\"data row3 col1\" >-0.353424</td>\n",
       "      <td id=\"T_ca8ab_row3_col2\" class=\"data row3 col2\" >0.962610</td>\n",
       "      <td id=\"T_ca8ab_row3_col3\" class=\"data row3 col3\" >1.000000</td>\n",
       "    </tr>\n",
       "  </tbody>\n",
       "</table>\n"
      ],
      "text/plain": [
       "<pandas.io.formats.style.Styler at 0x7fc46d4aab20>"
      ]
     },
     "execution_count": 468,
     "metadata": {},
     "output_type": "execute_result"
    }
   ],
   "source": [
    "# Check for Multi-collinearity\n",
    "vif = pd.DataFrame()\n",
    "variables = data_copy.columns\n",
    "df_vif = add_constant(data_copy) \n",
    "vif['VIF'] = [VIF(df_vif.values,i) for i in range(df_vif.shape[1])]\n",
    "vif['variables'] = df_vif.columns\n",
    "print(vif)\n",
    "print(data_copy.corr())\n",
    "data_copy.corr().style.background_gradient(cmap='coolwarm')\n",
    "\n",
    "# In the below output the vif is higher we can \n",
    "# see that there is strong correlation among variables except tail length\n",
    "# For the given data the higher correlation is expected."
   ]
  },
  {
   "cell_type": "code",
   "execution_count": 469,
   "metadata": {},
   "outputs": [
    {
     "data": {
      "image/png": "[encoded data removed]",
      "text/plain": [
       "<Figure size 432x288 with 1 Axes>"
      ]
     },
     "metadata": {},
     "output_type": "display_data"
    }
   ],
   "source": [
    "#Find Symmetric distribution of variables ie., not skewed\n",
    "for i in range(len(data_copy.columns)):\n",
    "    sns.kdeplot(data_copy.iloc[i])    \n",
    "plt.show()\n",
    "\n",
    "# from the plot we can infer that the data is normally distributed\n"
   ]
  },
  {
   "cell_type": "code",
   "execution_count": 470,
   "metadata": {},
   "outputs": [
    {
     "name": "stdout",
     "output_type": "stream",
     "text": [
      "      features  vif_value\n",
      "0  component 1        1.0\n",
      "1  component 2        1.0\n",
      "2  component 3        1.0\n",
      "3  component 4        1.0\n",
      "              component 1   component 2   component 3   component 4\n",
      "component 1  1.000000e+00  1.238807e-17  9.240273e-17  7.907747e-17\n",
      "component 2  1.238807e-17  1.000000e+00 -1.527898e-16 -2.089901e-16\n",
      "component 3  9.240273e-17 -1.527898e-16  1.000000e+00 -7.329555e-17\n",
      "component 4  7.907747e-17 -2.089901e-16 -7.329555e-17  1.000000e+00\n"
     ]
    },
    {
     "data": {
      "text/html": [
       "<style type=\"text/css\">\n",
       "#T_73111_row0_col0, #T_73111_row1_col1, #T_73111_row2_col2, #T_73111_row3_col3 {\n",
       "  background-color: #b40426;\n",
       "  color: #f1f1f1;\n",
       "}\n",
       "#T_73111_row0_col1, #T_73111_row0_col2, #T_73111_row0_col3, #T_73111_row1_col0, #T_73111_row1_col2, #T_73111_row1_col3, #T_73111_row2_col0, #T_73111_row2_col1, #T_73111_row2_col3, #T_73111_row3_col0, #T_73111_row3_col1, #T_73111_row3_col2 {\n",
       "  background-color: #3b4cc0;\n",
       "  color: #f1f1f1;\n",
       "}\n",
       "</style>\n",
       "<table id=\"T_73111\">\n",
       "  <thead>\n",
       "    <tr>\n",
       "      <th class=\"blank level0\" >&nbsp;</th>\n",
       "      <th id=\"T_73111_level0_col0\" class=\"col_heading level0 col0\" >component 1</th>\n",
       "      <th id=\"T_73111_level0_col1\" class=\"col_heading level0 col1\" >component 2</th>\n",
       "      <th id=\"T_73111_level0_col2\" class=\"col_heading level0 col2\" >component 3</th>\n",
       "      <th id=\"T_73111_level0_col3\" class=\"col_heading level0 col3\" >component 4</th>\n",
       "    </tr>\n",
       "  </thead>\n",
       "  <tbody>\n",
       "    <tr>\n",
       "      <th id=\"T_73111_level0_row0\" class=\"row_heading level0 row0\" >component 1</th>\n",
       "      <td id=\"T_73111_row0_col0\" class=\"data row0 col0\" >1.000000</td>\n",
       "      <td id=\"T_73111_row0_col1\" class=\"data row0 col1\" >0.000000</td>\n",
       "      <td id=\"T_73111_row0_col2\" class=\"data row0 col2\" >0.000000</td>\n",
       "      <td id=\"T_73111_row0_col3\" class=\"data row0 col3\" >0.000000</td>\n",
       "    </tr>\n",
       "    <tr>\n",
       "      <th id=\"T_73111_level0_row1\" class=\"row_heading level0 row1\" >component 2</th>\n",
       "      <td id=\"T_73111_row1_col0\" class=\"data row1 col0\" >0.000000</td>\n",
       "      <td id=\"T_73111_row1_col1\" class=\"data row1 col1\" >1.000000</td>\n",
       "      <td id=\"T_73111_row1_col2\" class=\"data row1 col2\" >-0.000000</td>\n",
       "      <td id=\"T_73111_row1_col3\" class=\"data row1 col3\" >-0.000000</td>\n",
       "    </tr>\n",
       "    <tr>\n",
       "      <th id=\"T_73111_level0_row2\" class=\"row_heading level0 row2\" >component 3</th>\n",
       "      <td id=\"T_73111_row2_col0\" class=\"data row2 col0\" >0.000000</td>\n",
       "      <td id=\"T_73111_row2_col1\" class=\"data row2 col1\" >-0.000000</td>\n",
       "      <td id=\"T_73111_row2_col2\" class=\"data row2 col2\" >1.000000</td>\n",
       "      <td id=\"T_73111_row2_col3\" class=\"data row2 col3\" >-0.000000</td>\n",
       "    </tr>\n",
       "    <tr>\n",
       "      <th id=\"T_73111_level0_row3\" class=\"row_heading level0 row3\" >component 4</th>\n",
       "      <td id=\"T_73111_row3_col0\" class=\"data row3 col0\" >0.000000</td>\n",
       "      <td id=\"T_73111_row3_col1\" class=\"data row3 col1\" >-0.000000</td>\n",
       "      <td id=\"T_73111_row3_col2\" class=\"data row3 col2\" >-0.000000</td>\n",
       "      <td id=\"T_73111_row3_col3\" class=\"data row3 col3\" >1.000000</td>\n",
       "    </tr>\n",
       "  </tbody>\n",
       "</table>\n"
      ],
      "text/plain": [
       "<pandas.io.formats.style.Styler at 0x7fc46e0952e0>"
      ]
     },
     "execution_count": 470,
     "metadata": {},
     "output_type": "execute_result"
    }
   ],
   "source": [
    "# applying PCA for removing multi collinearity among data\n",
    "\n",
    "pca = PCA(n_components=4)\n",
    "components=pca.fit_transform(data_copy)\n",
    "mu = np.array(np.mean(data_copy,axis=0))\n",
    "PCA_Df=pd.DataFrame(data=components,columns=['component 1','component 2','component 3','component 4'])\n",
    "\n",
    "\n",
    "#Reconstructing original Data Frame from PCA\n",
    "Xhat = (np.matmul(components, pca.components_))+mu\n",
    "\n",
    "#Calculate VIF \n",
    "vif = pd.DataFrame()\n",
    "vif[\"features\"] = PCA_Df.columns\n",
    "vif[\"vif_value\"] = [VIF(PCA_Df.values, i) for i in range(PCA_Df.shape[1])]\n",
    "print(vif)\n",
    "print(PCA_Df.corr())\n",
    "PCA_Df.corr().style.background_gradient(cmap='coolwarm')\n",
    "\n",
    "#Here we can see below that the correlation is removed. "
   ]
  },
  {
   "cell_type": "code",
   "execution_count": 549,
   "metadata": {},
   "outputs": [],
   "source": [
    "# Implementing K-means on data\n",
    "from sklearn.cluster import KMeans\n",
    "from sklearn.mixture import GaussianMixture\n",
    "from sklearn.metrics import silhouette_score,silhouette_samples\n",
    "data_copy.reset_index(drop=['index'],inplace=True)\n",
    "\n"
   ]
  },
  {
   "cell_type": "code",
   "execution_count": null,
   "metadata": {},
   "outputs": [],
   "source": [
    "sse_kmeans = {}\n",
    "sse_kmeans_pca = {}\n",
    "clustered_df = pd.DataFrame()\n",
    "clustered_df = data_copy.copy()\n",
    "for i in range(2,7):\n",
    "    kmeans = KMeans(n_clusters=i, random_state=0).fit(data_copy)\n",
    "    kmeans_pca = KMeans(n_clusters=i, random_state=0).fit(PCA_Df)\n",
    "    gaussian = GaussianMixture(n_components=i, random_state=0).fit(data_copy) \n",
    "    \n",
    "    clustered_df[f'labels_kmeans_{i}'] = kmeans.predict(data_copy)\n",
    "    clustered_df[f'labels_kmeans_pca_{i}'] = kmeans_pca.predict(PCA_Df)\n",
    "    clustered_df[f'labels_GMM_{i}'] = gaussian.predict(data_copy)\n",
    "    sse_kmeans[i] = kmeans.inertia_ \n",
    "    sse_kmeans_pca[i] = kmeans_pca.inertia_ \n",
    "\n",
    "    clustered_df[f'kmeans_silhouette_values_{i}'] = silhouette_samples(clustered_df, clustered_df[f'labels_kmeans_{i}'])\n",
    "    clustered_df[f'pca_kmeans_silhouette_values_{i}'] = silhouette_samples(clustered_df, clustered_df[f'labels_kmeans_pca_{i}'])\n",
    "    clustered_df[f'labels_GMM_silhouette_values_{i}'] = silhouette_samples(clustered_df, clustered_df[f'labels_GMM_{i}'])\n"
   ]
  },
  {
   "cell_type": "code",
   "execution_count": 557,
   "metadata": {},
   "outputs": [
    {
     "data": {
      "text/html": [
       "<div>\n",
       "<style scoped>\n",
       "    .dataframe tbody tr th:only-of-type {\n",
       "        vertical-align: middle;\n",
       "    }\n",
       "\n",
       "    .dataframe tbody tr th {\n",
       "        vertical-align: top;\n",
       "    }\n",
       "\n",
       "    .dataframe thead th {\n",
       "        text-align: right;\n",
       "    }\n",
       "</style>\n",
       "<table border=\"1\" class=\"dataframe\">\n",
       "  <thead>\n",
       "    <tr style=\"text-align: right;\">\n",
       "      <th></th>\n",
       "      <th>height</th>\n",
       "      <th>tail length</th>\n",
       "      <th>leg length</th>\n",
       "      <th>nose circumference</th>\n",
       "      <th>labels_kmeans_2</th>\n",
       "      <th>labels_kmeans_pca_2</th>\n",
       "      <th>labels_GMM_2</th>\n",
       "      <th>kmeans_silhouette_values_2</th>\n",
       "      <th>pca_kmeans_silhouette_values_2</th>\n",
       "      <th>labels_GMM_silhouette_values_2</th>\n",
       "      <th>...</th>\n",
       "      <th>labels_GMM_5</th>\n",
       "      <th>kmeans_silhouette_values_5</th>\n",
       "      <th>pca_kmeans_silhouette_values_5</th>\n",
       "      <th>labels_GMM_silhouette_values_5</th>\n",
       "      <th>labels_kmeans_6</th>\n",
       "      <th>labels_kmeans_pca_6</th>\n",
       "      <th>labels_GMM_6</th>\n",
       "      <th>kmeans_silhouette_values_6</th>\n",
       "      <th>pca_kmeans_silhouette_values_6</th>\n",
       "      <th>labels_GMM_silhouette_values_6</th>\n",
       "    </tr>\n",
       "  </thead>\n",
       "  <tbody>\n",
       "    <tr>\n",
       "      <th>0</th>\n",
       "      <td>5.151</td>\n",
       "      <td>3.535</td>\n",
       "      <td>1.414</td>\n",
       "      <td>0.202</td>\n",
       "      <td>1</td>\n",
       "      <td>0</td>\n",
       "      <td>1</td>\n",
       "      <td>0.546940</td>\n",
       "      <td>0.513988</td>\n",
       "      <td>0.141785</td>\n",
       "      <td>...</td>\n",
       "      <td>3</td>\n",
       "      <td>0.945495</td>\n",
       "      <td>0.482064</td>\n",
       "      <td>0.945513</td>\n",
       "      <td>3</td>\n",
       "      <td>0</td>\n",
       "      <td>3</td>\n",
       "      <td>0.945457</td>\n",
       "      <td>0.945467</td>\n",
       "      <td>0.945480</td>\n",
       "    </tr>\n",
       "    <tr>\n",
       "      <th>1</th>\n",
       "      <td>4.949</td>\n",
       "      <td>3.030</td>\n",
       "      <td>1.414</td>\n",
       "      <td>0.202</td>\n",
       "      <td>1</td>\n",
       "      <td>0</td>\n",
       "      <td>0</td>\n",
       "      <td>0.523380</td>\n",
       "      <td>0.496760</td>\n",
       "      <td>0.951300</td>\n",
       "      <td>...</td>\n",
       "      <td>0</td>\n",
       "      <td>0.945161</td>\n",
       "      <td>0.368368</td>\n",
       "      <td>0.945153</td>\n",
       "      <td>0</td>\n",
       "      <td>4</td>\n",
       "      <td>0</td>\n",
       "      <td>0.945149</td>\n",
       "      <td>0.944958</td>\n",
       "      <td>0.945156</td>\n",
       "    </tr>\n",
       "    <tr>\n",
       "      <th>2</th>\n",
       "      <td>4.747</td>\n",
       "      <td>3.232</td>\n",
       "      <td>1.313</td>\n",
       "      <td>0.202</td>\n",
       "      <td>1</td>\n",
       "      <td>0</td>\n",
       "      <td>0</td>\n",
       "      <td>0.529135</td>\n",
       "      <td>0.502441</td>\n",
       "      <td>0.954323</td>\n",
       "      <td>...</td>\n",
       "      <td>0</td>\n",
       "      <td>0.948799</td>\n",
       "      <td>0.377752</td>\n",
       "      <td>0.948786</td>\n",
       "      <td>0</td>\n",
       "      <td>4</td>\n",
       "      <td>0</td>\n",
       "      <td>0.948782</td>\n",
       "      <td>0.948601</td>\n",
       "      <td>0.948791</td>\n",
       "    </tr>\n",
       "    <tr>\n",
       "      <th>3</th>\n",
       "      <td>4.646</td>\n",
       "      <td>3.131</td>\n",
       "      <td>1.515</td>\n",
       "      <td>0.202</td>\n",
       "      <td>1</td>\n",
       "      <td>0</td>\n",
       "      <td>0</td>\n",
       "      <td>0.524383</td>\n",
       "      <td>0.497857</td>\n",
       "      <td>0.953497</td>\n",
       "      <td>...</td>\n",
       "      <td>0</td>\n",
       "      <td>0.947671</td>\n",
       "      <td>0.370322</td>\n",
       "      <td>0.947665</td>\n",
       "      <td>0</td>\n",
       "      <td>4</td>\n",
       "      <td>0</td>\n",
       "      <td>0.947662</td>\n",
       "      <td>0.947487</td>\n",
       "      <td>0.947674</td>\n",
       "    </tr>\n",
       "    <tr>\n",
       "      <th>4</th>\n",
       "      <td>5.050</td>\n",
       "      <td>3.636</td>\n",
       "      <td>1.414</td>\n",
       "      <td>0.202</td>\n",
       "      <td>1</td>\n",
       "      <td>0</td>\n",
       "      <td>1</td>\n",
       "      <td>0.546489</td>\n",
       "      <td>0.513677</td>\n",
       "      <td>0.138399</td>\n",
       "      <td>...</td>\n",
       "      <td>3</td>\n",
       "      <td>0.942209</td>\n",
       "      <td>0.481857</td>\n",
       "      <td>0.942226</td>\n",
       "      <td>3</td>\n",
       "      <td>0</td>\n",
       "      <td>3</td>\n",
       "      <td>0.942165</td>\n",
       "      <td>0.942174</td>\n",
       "      <td>0.942183</td>\n",
       "    </tr>\n",
       "    <tr>\n",
       "      <th>...</th>\n",
       "      <td>...</td>\n",
       "      <td>...</td>\n",
       "      <td>...</td>\n",
       "      <td>...</td>\n",
       "      <td>...</td>\n",
       "      <td>...</td>\n",
       "      <td>...</td>\n",
       "      <td>...</td>\n",
       "      <td>...</td>\n",
       "      <td>...</td>\n",
       "      <td>...</td>\n",
       "      <td>...</td>\n",
       "      <td>...</td>\n",
       "      <td>...</td>\n",
       "      <td>...</td>\n",
       "      <td>...</td>\n",
       "      <td>...</td>\n",
       "      <td>...</td>\n",
       "      <td>...</td>\n",
       "      <td>...</td>\n",
       "      <td>...</td>\n",
       "    </tr>\n",
       "    <tr>\n",
       "      <th>291</th>\n",
       "      <td>6.834</td>\n",
       "      <td>3.060</td>\n",
       "      <td>5.304</td>\n",
       "      <td>2.346</td>\n",
       "      <td>0</td>\n",
       "      <td>1</td>\n",
       "      <td>1</td>\n",
       "      <td>0.431659</td>\n",
       "      <td>0.425655</td>\n",
       "      <td>0.424566</td>\n",
       "      <td>...</td>\n",
       "      <td>2</td>\n",
       "      <td>0.566148</td>\n",
       "      <td>0.644792</td>\n",
       "      <td>0.566842</td>\n",
       "      <td>2</td>\n",
       "      <td>3</td>\n",
       "      <td>2</td>\n",
       "      <td>0.868531</td>\n",
       "      <td>0.709937</td>\n",
       "      <td>0.868339</td>\n",
       "    </tr>\n",
       "    <tr>\n",
       "      <th>292</th>\n",
       "      <td>6.426</td>\n",
       "      <td>2.550</td>\n",
       "      <td>5.100</td>\n",
       "      <td>1.938</td>\n",
       "      <td>0</td>\n",
       "      <td>1</td>\n",
       "      <td>1</td>\n",
       "      <td>0.376892</td>\n",
       "      <td>0.387814</td>\n",
       "      <td>0.342165</td>\n",
       "      <td>...</td>\n",
       "      <td>1</td>\n",
       "      <td>0.823933</td>\n",
       "      <td>0.835171</td>\n",
       "      <td>0.823381</td>\n",
       "      <td>1</td>\n",
       "      <td>1</td>\n",
       "      <td>1</td>\n",
       "      <td>0.737897</td>\n",
       "      <td>0.787962</td>\n",
       "      <td>0.740396</td>\n",
       "    </tr>\n",
       "    <tr>\n",
       "      <th>293</th>\n",
       "      <td>6.630</td>\n",
       "      <td>3.060</td>\n",
       "      <td>5.304</td>\n",
       "      <td>2.040</td>\n",
       "      <td>0</td>\n",
       "      <td>1</td>\n",
       "      <td>1</td>\n",
       "      <td>0.338193</td>\n",
       "      <td>0.340827</td>\n",
       "      <td>0.245406</td>\n",
       "      <td>...</td>\n",
       "      <td>1</td>\n",
       "      <td>0.552215</td>\n",
       "      <td>-0.302461</td>\n",
       "      <td>0.547405</td>\n",
       "      <td>1</td>\n",
       "      <td>3</td>\n",
       "      <td>1</td>\n",
       "      <td>0.241449</td>\n",
       "      <td>-0.002677</td>\n",
       "      <td>0.256416</td>\n",
       "    </tr>\n",
       "    <tr>\n",
       "      <th>294</th>\n",
       "      <td>6.324</td>\n",
       "      <td>3.468</td>\n",
       "      <td>5.508</td>\n",
       "      <td>2.346</td>\n",
       "      <td>0</td>\n",
       "      <td>1</td>\n",
       "      <td>1</td>\n",
       "      <td>0.427497</td>\n",
       "      <td>0.421320</td>\n",
       "      <td>0.421528</td>\n",
       "      <td>...</td>\n",
       "      <td>2</td>\n",
       "      <td>0.550892</td>\n",
       "      <td>0.635924</td>\n",
       "      <td>0.551613</td>\n",
       "      <td>2</td>\n",
       "      <td>3</td>\n",
       "      <td>2</td>\n",
       "      <td>0.850086</td>\n",
       "      <td>0.697201</td>\n",
       "      <td>0.849857</td>\n",
       "    </tr>\n",
       "    <tr>\n",
       "      <th>295</th>\n",
       "      <td>6.018</td>\n",
       "      <td>3.060</td>\n",
       "      <td>5.202</td>\n",
       "      <td>1.836</td>\n",
       "      <td>0</td>\n",
       "      <td>1</td>\n",
       "      <td>1</td>\n",
       "      <td>0.370496</td>\n",
       "      <td>0.381767</td>\n",
       "      <td>0.338912</td>\n",
       "      <td>...</td>\n",
       "      <td>1</td>\n",
       "      <td>0.826319</td>\n",
       "      <td>0.837950</td>\n",
       "      <td>0.825765</td>\n",
       "      <td>1</td>\n",
       "      <td>1</td>\n",
       "      <td>1</td>\n",
       "      <td>0.741005</td>\n",
       "      <td>0.791577</td>\n",
       "      <td>0.743495</td>\n",
       "    </tr>\n",
       "  </tbody>\n",
       "</table>\n",
       "<p>296 rows × 34 columns</p>\n",
       "</div>"
      ],
      "text/plain": [
       "     height  tail length  leg length  nose circumference  labels_kmeans_2  \\\n",
       "0     5.151        3.535       1.414               0.202                1   \n",
       "1     4.949        3.030       1.414               0.202                1   \n",
       "2     4.747        3.232       1.313               0.202                1   \n",
       "3     4.646        3.131       1.515               0.202                1   \n",
       "4     5.050        3.636       1.414               0.202                1   \n",
       "..      ...          ...         ...                 ...              ...   \n",
       "291   6.834        3.060       5.304               2.346                0   \n",
       "292   6.426        2.550       5.100               1.938                0   \n",
       "293   6.630        3.060       5.304               2.040                0   \n",
       "294   6.324        3.468       5.508               2.346                0   \n",
       "295   6.018        3.060       5.202               1.836                0   \n",
       "\n",
       "     labels_kmeans_pca_2  labels_GMM_2  kmeans_silhouette_values_2  \\\n",
       "0                      0             1                    0.546940   \n",
       "1                      0             0                    0.523380   \n",
       "2                      0             0                    0.529135   \n",
       "3                      0             0                    0.524383   \n",
       "4                      0             1                    0.546489   \n",
       "..                   ...           ...                         ...   \n",
       "291                    1             1                    0.431659   \n",
       "292                    1             1                    0.376892   \n",
       "293                    1             1                    0.338193   \n",
       "294                    1             1                    0.427497   \n",
       "295                    1             1                    0.370496   \n",
       "\n",
       "     pca_kmeans_silhouette_values_2  labels_GMM_silhouette_values_2  ...  \\\n",
       "0                          0.513988                        0.141785  ...   \n",
       "1                          0.496760                        0.951300  ...   \n",
       "2                          0.502441                        0.954323  ...   \n",
       "3                          0.497857                        0.953497  ...   \n",
       "4                          0.513677                        0.138399  ...   \n",
       "..                              ...                             ...  ...   \n",
       "291                        0.425655                        0.424566  ...   \n",
       "292                        0.387814                        0.342165  ...   \n",
       "293                        0.340827                        0.245406  ...   \n",
       "294                        0.421320                        0.421528  ...   \n",
       "295                        0.381767                        0.338912  ...   \n",
       "\n",
       "     labels_GMM_5  kmeans_silhouette_values_5  pca_kmeans_silhouette_values_5  \\\n",
       "0               3                    0.945495                        0.482064   \n",
       "1               0                    0.945161                        0.368368   \n",
       "2               0                    0.948799                        0.377752   \n",
       "3               0                    0.947671                        0.370322   \n",
       "4               3                    0.942209                        0.481857   \n",
       "..            ...                         ...                             ...   \n",
       "291             2                    0.566148                        0.644792   \n",
       "292             1                    0.823933                        0.835171   \n",
       "293             1                    0.552215                       -0.302461   \n",
       "294             2                    0.550892                        0.635924   \n",
       "295             1                    0.826319                        0.837950   \n",
       "\n",
       "     labels_GMM_silhouette_values_5  labels_kmeans_6  labels_kmeans_pca_6  \\\n",
       "0                          0.945513                3                    0   \n",
       "1                          0.945153                0                    4   \n",
       "2                          0.948786                0                    4   \n",
       "3                          0.947665                0                    4   \n",
       "4                          0.942226                3                    0   \n",
       "..                              ...              ...                  ...   \n",
       "291                        0.566842                2                    3   \n",
       "292                        0.823381                1                    1   \n",
       "293                        0.547405                1                    3   \n",
       "294                        0.551613                2                    3   \n",
       "295                        0.825765                1                    1   \n",
       "\n",
       "     labels_GMM_6  kmeans_silhouette_values_6  pca_kmeans_silhouette_values_6  \\\n",
       "0               3                    0.945457                        0.945467   \n",
       "1               0                    0.945149                        0.944958   \n",
       "2               0                    0.948782                        0.948601   \n",
       "3               0                    0.947662                        0.947487   \n",
       "4               3                    0.942165                        0.942174   \n",
       "..            ...                         ...                             ...   \n",
       "291             2                    0.868531                        0.709937   \n",
       "292             1                    0.737897                        0.787962   \n",
       "293             1                    0.241449                       -0.002677   \n",
       "294             2                    0.850086                        0.697201   \n",
       "295             1                    0.741005                        0.791577   \n",
       "\n",
       "     labels_GMM_silhouette_values_6  \n",
       "0                          0.945480  \n",
       "1                          0.945156  \n",
       "2                          0.948791  \n",
       "3                          0.947674  \n",
       "4                          0.942183  \n",
       "..                              ...  \n",
       "291                        0.868339  \n",
       "292                        0.740396  \n",
       "293                        0.256416  \n",
       "294                        0.849857  \n",
       "295                        0.743495  \n",
       "\n",
       "[296 rows x 34 columns]"
      ]
     },
     "execution_count": 557,
     "metadata": {},
     "output_type": "execute_result"
    }
   ],
   "source": [
    "clustered_df"
   ]
  },
  {
   "cell_type": "code",
   "execution_count": 558,
   "metadata": {},
   "outputs": [
    {
     "data": {
      "text/plain": [
       "<AxesSubplot:xlabel='height', ylabel='leg length'>"
      ]
     },
     "execution_count": 558,
     "metadata": {},
     "output_type": "execute_result"
    },
    {
     "data": {
      "image/png": "[encoded data removed]",
      "text/plain": [
       "<Figure size 432x288 with 1 Axes>"
      ]
     },
     "metadata": {},
     "output_type": "display_data"
    }
   ],
   "source": [
    "sns.scatterplot(data=clustered_df, x='height',y='leg length',hue='labels_kmeans_3',style=\"labels_kmeans_3\")"
   ]
  },
  {
   "cell_type": "code",
   "execution_count": 559,
   "metadata": {},
   "outputs": [
    {
     "data": {
      "text/plain": [
       "<AxesSubplot:xlabel='height', ylabel='nose circumference'>"
      ]
     },
     "execution_count": 559,
     "metadata": {},
     "output_type": "execute_result"
    },
    {
     "data": {
      "image/png": "[encoded data removed]",
      "text/plain": [
       "<Figure size 432x288 with 1 Axes>"
      ]
     },
     "metadata": {},
     "output_type": "display_data"
    }
   ],
   "source": [
    "sns.scatterplot(data=clustered_df, x='height',y='nose circumference',hue='labels_GMM_4',style=\"labels_GMM_4\")\n",
    "\n",
    "\n",
    "#In the below plot, the 4 clusters are overlapped."
   ]
  },
  {
   "cell_type": "code",
   "execution_count": 560,
   "metadata": {},
   "outputs": [
    {
     "data": {
      "text/plain": [
       "[<matplotlib.lines.Line2D at 0x7fc45083e0d0>]"
      ]
     },
     "execution_count": 560,
     "metadata": {},
     "output_type": "execute_result"
    },
    {
     "data": {
      "image/png": "[encoded data removed]",
      "text/plain": [
       "<Figure size 432x288 with 1 Axes>"
      ]
     },
     "metadata": {},
     "output_type": "display_data"
    }
   ],
   "source": [
    "plt.figure()\n",
    "plt.plot(list(sse_kmeans.keys()), list(sse_kmeans.values()))\n",
    "\n",
    "#The below elbow graph suggests k value 4 "
   ]
  },
  {
   "cell_type": "code",
   "execution_count": 562,
   "metadata": {},
   "outputs": [
    {
     "data": {
      "text/plain": [
       "[<matplotlib.lines.Line2D at 0x7fc4509f4070>]"
      ]
     },
     "execution_count": 562,
     "metadata": {},
     "output_type": "execute_result"
    },
    {
     "data": {
      "image/png": "[encoded data removed]",
      "text/plain": [
       "<Figure size 432x288 with 1 Axes>"
      ]
     },
     "metadata": {},
     "output_type": "display_data"
    }
   ],
   "source": [
    "plt.figure()\n",
    "plt.plot(list(sse_kmeans_pca.keys()), list(sse_kmeans_pca.values()))\n",
    "\n",
    "# The below elbow graph suggests k value 3 "
   ]
  },
  {
   "cell_type": "code",
   "execution_count": 563,
   "metadata": {},
   "outputs": [
    {
     "data": {
      "text/plain": [
       "<AxesSubplot:xlabel='height', ylabel='nose circumference'>"
      ]
     },
     "execution_count": 563,
     "metadata": {},
     "output_type": "execute_result"
    },
    {
     "data": {
      "image/png": "[encoded data removed]",
      "text/plain": [
       "<Figure size 432x288 with 1 Axes>"
      ]
     },
     "metadata": {},
     "output_type": "display_data"
    }
   ],
   "source": [
    "sns.scatterplot(data=clustered_df, x='height',y='nose circumference',hue='labels_kmeans_pca_3',style=\"labels_kmeans_pca_3\")\n",
    "\n",
    "#From the below the 3 clusters are very obvious with very few over lapping observations."
   ]
  },
  {
   "cell_type": "code",
   "execution_count": 545,
   "metadata": {},
   "outputs": [
    {
     "data": {
      "text/plain": [
       "<AxesSubplot:xlabel='height', ylabel='nose circumference'>"
      ]
     },
     "execution_count": 545,
     "metadata": {},
     "output_type": "execute_result"
    },
    {
     "data": {
      "image/png": "[encoded data removed]",
      "text/plain": [
       "<Figure size 432x288 with 1 Axes>"
      ]
     },
     "metadata": {},
     "output_type": "display_data"
    }
   ],
   "source": [
    "sns.scatterplot(data=clustered_df, x='height',y='nose circumference',hue='labels_kmeans_pca_4',style=\"labels_kmeans_pca_4\")\n",
    "\n",
    "#From the below the even 4 clusters are very obvious with very few overlapping observations."
   ]
  },
  {
   "cell_type": "code",
   "execution_count": 566,
   "metadata": {},
   "outputs": [
    {
     "name": "stdout",
     "output_type": "stream",
     "text": [
      "0.4206888265163931\n",
      "0.3967059842723722\n",
      "0.43817962064290317\n",
      "0.4854459623177101\n",
      "0.313691539410473\n",
      "0.47343523141980387\n",
      "0.6608938261802226\n",
      "0.5514393611883335\n",
      "0.6608938261802226\n",
      "0.746324187723541\n",
      "0.632199943409062\n",
      "0.746324187723541\n",
      "0.8298303590087474\n",
      "0.8122430053090429\n",
      "0.8298303590087474\n"
     ]
    }
   ],
   "source": [
    "# Cluster validation\n",
    "silhouette_avg_kmeans = {}\n",
    "silhouette_avg_kmeans_pca = {}\n",
    "silhouette_avg_GMM = {}\n",
    "\n",
    "for i in range(2,7):\n",
    "    silhouette_avg_kmeans[i] = silhouette_score(clustered_df, clustered_df[f'labels_kmeans_{i}'])\n",
    "    silhouette_avg_kmeans_pca[i] = silhouette_score(clustered_df, clustered_df[f'labels_kmeans_pca_{i}'])\n",
    "    silhouette_avg_GMM[i] = silhouette_score(clustered_df, clustered_df[f'labels_GMM_{i}'])\n",
    "\n",
    "    print(silhouette_avg_kmeans[i])\n",
    "    print(silhouette_avg_kmeans_pca[i])\n",
    "    print(silhouette_avg_GMM[i])\n",
    "    \n"
   ]
  },
  {
   "cell_type": "code",
   "execution_count": 567,
   "metadata": {},
   "outputs": [],
   "source": [
    "from sklearn.cluster import AffinityPropagation\n",
    "from sklearn import metrics"
   ]
  },
  {
   "cell_type": "code",
   "execution_count": 627,
   "metadata": {},
   "outputs": [
    {
     "name": "stdout",
     "output_type": "stream",
     "text": [
      "{0, 1, 2, 3}\n",
      "Homogenity : 0.90\n",
      "Completeness : 0.90\n",
      "v-measure score : 0.90\n",
      "adjusted_rand_score : 0.90\n",
      "adjusted_mutual_info_score : 0.90\n",
      "silhouette_score : 0.68\n"
     ]
    }
   ],
   "source": [
    "af = AffinityPropagation(preference=-75, random_state=0).fit(PCA_Df)\n",
    "cluster_centers_indices = af.cluster_centers_indices_\n",
    "labels = af.labels_\n",
    "af_proposed_labels = set(labels)\n",
    "print(af_proposed_labels)\n",
    "print(\"Homogenity : %.2f\" % metrics.homogeneity_score(clustered_df[f'labels_kmeans_pca_{len(af_proposed_labels)}'], labels))\n",
    "print(\"Completeness : %.2f\" % metrics.completeness_score(clustered_df[f'labels_kmeans_pca_{len(af_proposed_labels)}'], labels))\n",
    "print(\"v-measure score : %.2f\" % metrics.v_measure_score(clustered_df[f'labels_kmeans_pca_{len(af_proposed_labels)}'], labels))\n",
    "print(\"adjusted_rand_score : %.2f\" % metrics.adjusted_rand_score(clustered_df[f'labels_kmeans_pca_{len(af_proposed_labels)}'], labels))\n",
    "print(\"adjusted_mutual_info_score : %.2f\" % metrics.adjusted_mutual_info_score(clustered_df[f'labels_kmeans_pca_{len(af_proposed_labels)}'], labels))\n"
   ]
  },
  {
   "cell_type": "code",
   "execution_count": 631,
   "metadata": {},
   "outputs": [
    {
     "name": "stdout",
     "output_type": "stream",
     "text": [
      "silhouette_score : 0.94\n"
     ]
    }
   ],
   "source": [
    "print(\"silhouette_score : %.2f\" % metrics.silhouette_score(clustered_df, clustered_df['labels_kmeans_6'], metric=\"sqeuclidean\"))\n"
   ]
  },
  {
   "cell_type": "code",
   "execution_count": 592,
   "metadata": {},
   "outputs": [
    {
     "data": {
      "text/plain": [
       "0.8955172200624189"
      ]
     },
     "execution_count": 592,
     "metadata": {},
     "output_type": "execute_result"
    }
   ],
   "source": []
  },
  {
   "cell_type": "code",
   "execution_count": null,
   "metadata": {},
   "outputs": [],
   "source": []
  }
 ],
 "metadata": {
  "interpreter": {
   "hash": "aee8b7b246df8f9039afb4144a1f6fd8d2ca17a180786b69acc140d282b71a49"
  },
  "kernelspec": {
   "display_name": "Python 3.10.3 64-bit",
   "language": "python",
   "name": "python3"
  },
  "language_info": {
   "codemirror_mode": {
    "name": "ipython",
    "version": 3
   },
   "file_extension": ".py",
   "mimetype": "text/x-python",
   "name": "python",
   "nbconvert_exporter": "python",
   "pygments_lexer": "ipython3",
   "version": "3.9.7"
  },
  "orig_nbformat": 4
 },
 "nbformat": 4,
 "nbformat_minor": 2
}
